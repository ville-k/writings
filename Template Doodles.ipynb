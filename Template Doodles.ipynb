{
 "cells": [
  {
   "cell_type": "code",
   "execution_count": 1,
   "metadata": {},
   "outputs": [
    {
     "data": {
      "text/plain": [
       "(const char *) \"hello\"\n"
      ]
     },
     "execution_count": 1,
     "metadata": {},
     "output_type": "execute_result"
    }
   ],
   "source": [
    "auto hi = \"hello\";"
   ]
  },
  {
   "cell_type": "code",
   "execution_count": 2,
   "metadata": {},
   "outputs": [
    {
     "name": "stderr",
     "output_type": "stream",
     "text": [
      "\n",
      " Cling (C/C++ interpreter) meta commands usage\n",
      " All commands must be preceded by a '.', except\n",
      " for the evaluation statement { }\n",
      " ==============================================================================\n",
      " Syntax: .Command [arg0 arg1 ... argN]\n",
      "\n",
      "   .L <filename>\t\t- Load the given file or library\n",
      "\n",
      "   .(x|X) <filename>[args]\t- Same as .L and runs a function with\n",
      "\t\t\t\t  signature: ret_type filename(args)\n",
      "\n",
      "   .> <filename>\t\t- Redirect command to a given file\n",
      "      '>' or '1>'\t\t- Redirects the stdout stream only\n",
      "      '2>'\t\t\t- Redirects the stderr stream only\n",
      "      '&>' (or '2>&1')\t\t- Redirects both stdout and stderr\n",
      "      '>>'\t\t\t- Appends to the given file\n",
      "\n",
      "   .undo [n]\t\t\t- Unloads the last 'n' inputs lines\n",
      "\n",
      "   .U <filename>\t\t- Unloads the given file\n",
      "\n",
      "   .I [path]\t\t\t- Shows the include path. If a path is given -\n",
      "\t\t\t\t  adds the path to the include paths\n",
      "\n",
      "   .O <level>\t\t\t- Sets the optimization level (0-3)\n",
      "\t\t\t\t  (not yet implemented)\n",
      "\n",
      "   .class <name>\t\t- Prints out class <name> in a CINT-like style\n",
      "\n",
      "   .files \t\t\t- Prints out some CINT-like file statistics\n",
      "\n",
      "   .fileEx \t\t\t- Prints out some file statistics\n",
      "\n",
      "   .g \t\t\t\t- Prints out information about global variable\n",
      "\t\t\t\t  'name' - if no name is given, print them all\n",
      "\n",
      "   .@ \t\t\t\t- Cancels and ignores the multiline input\n",
      "\n",
      "   .rawInput [0|1]\t\t- Toggle wrapping and printing the\n",
      "\t\t\t\t  execution results of the input\n",
      "\n",
      "   .dynamicExtensions [0|1]\t- Toggles the use of the dynamic scopes and the\n",
      "\t\t\t\t  late binding\n",
      "\n",
      "   .printDebug [0|1]\t\t- Toggles the printing of input's corresponding\n",
      "\t\t\t\t  state changes\n",
      "\n",
      "   .storeState <filename>\t- Store the interpreter's state to a given file\n",
      "\n",
      "   .compareState <filename>\t- Compare the interpreter's state with the one\n",
      "\t\t\t\t  saved in a given file\n",
      "\n",
      "   .stats [name]\t\t- Show stats for internal data structures\n",
      "\t\t\t\t  'ast'  abstract syntax tree stats\n",
      "\t\t\t\t  'asttree [filter]'  abstract syntax tree layout\n",
      "\t\t\t\t  'decl' dump ast declarations\n",
      "\t\t\t\t  'undo' show undo stack\n",
      "\n",
      "   .help\t\t\t- Shows this information\n",
      "\n",
      "   .q\t\t\t\t- Exit the program\n",
      "\n"
     ]
    },
    {
     "data": {
      "text/plain": []
     },
     "execution_count": 2,
     "metadata": {},
     "output_type": "execute_result"
    }
   ],
   "source": [
    "template<typename>\n",
    "switchexpr()"
   ]
  },
  {
   "cell_type": "code",
   "execution_count": 2,
   "metadata": {},
   "outputs": [
    {
     "data": {
      "text/plain": []
     },
     "execution_count": 2,
     "metadata": {},
     "output_type": "execute_result"
    }
   ],
   "source": [
    "#include <string>\n",
    "#include <functional>\n",
    "using namespace std;"
   ]
  },
  {
   "cell_type": "code",
   "execution_count": null,
   "metadata": {
    "collapsed": true
   },
   "outputs": [],
   "source": [
    "int value = 42;\n",
    "string formatted = when(value, [] (matcher matches) {\n",
    "    matches([] (int i) {\n",
    "        return \"int\" + i;\n",
    "    }),\n",
    "    matches([] (char * c) {\n",
    "        return \"char * \" + c;\n",
    "    }),\n",
    "    matches<22.0>([] (float& f) {\n",
    "        return \"float 22.0\";\n",
    "    }),\n",
    "    matches.within<100.0, 200.0>\n",
    "    matches<32.0>(\"float 32.0\"),\n",
    "    matches<12.0>(toString),\n",
    "    matches.not([] {\n",
    "        \n",
    "    })\n",
    "});"
   ]
  },
  {
   "cell_type": "code",
   "execution_count": null,
   "metadata": {},
   "outputs": [
    {
     "name": "stderr",
     "output_type": "stream",
     "text": [
      "\u001b[1minput_line_17:9:2: \u001b[0m\u001b[0;1;31merror: \u001b[0m\u001b[1mexpected expression\u001b[0m\n",
      " template<typename match_type>\n",
      "\u001b[0;1;32m ^\n",
      "\u001b[0m"
     ]
    }
   ],
   "source": [
    "    struct matcher {\n",
    "    };\n",
    "\n",
    "    // bounded_matcher -> handles all cases\n",
    "    // unbounded_matcher -> does not handle all\n",
    "\n",
    "    // match by type, value, range of values/within\n",
    "\n",
    "    template<typename match_type>\n",
    "    auto when(const match_type& matchee, std::function<return_type(matcher)> match) -> return_type {\n",
    "        return return_type();\n",
    "    }"
   ]
  },
  {
   "cell_type": "code",
   "execution_count": null,
   "metadata": {
    "collapsed": true
   },
   "outputs": [],
   "source": [
    "\n",
    "when(raises(doSomething()), [] (matcher match) {\n",
    "   match<std::out_of_memory_exception>([] {\n",
    "       \n",
    "   }) \n",
    "});"
   ]
  },
  {
   "cell_type": "code",
   "execution_count": null,
   "metadata": {
    "collapsed": true
   },
   "outputs": [],
   "source": [
    "template <typename first_type>\n",
    "class data_class(first_type t) {\n",
    "\n",
    "}\n",
    "\n",
    "data_class payload([] (builder field) {\n",
    "    field<int> \n",
    "[]});\n",
    "\n"
   ]
  },
  {
   "cell_type": "markdown",
   "metadata": {},
   "source": [
    "#  Pattern matching \n",
    "inspired by these ideas for java:\n",
    "http://cr.openjdk.java.net/~briangoetz/amber/pattern-match.html"
   ]
  },
  {
   "cell_type": "code",
   "execution_count": 3,
   "metadata": {},
   "outputs": [
    {
     "data": {
      "text/plain": []
     },
     "execution_count": 3,
     "metadata": {},
     "output_type": "execute_result"
    }
   ],
   "source": [
    "\n",
    "\n",
    "// solution from http://stackoverflow.com/questions/13753801/stdfunction-template-argument-resolution\n",
    "template <typename T>\n",
    "T if_expr_internal(bool predicate, std::function<T()> true_expression) {\n",
    "  if (predicate) return true_expression();\n",
    "  else return T();\n",
    "}\n",
    "\n",
    "template <typename T>\n",
    "auto if_expr(bool predicate, T true_expression) -> decltype(true_expression()) {\n",
    "  return if_expr_internal<decltype(true_expression())>(predicate, true_expression);\n",
    "}"
   ]
  },
  {
   "cell_type": "code",
   "execution_count": 4,
   "metadata": {},
   "outputs": [
    {
     "data": {
      "text/plain": [
       "(const char *) \"mooh\"\n"
      ]
     },
     "execution_count": 4,
     "metadata": {},
     "output_type": "execute_result"
    }
   ],
   "source": [
    "  int value = 42;\n",
    "  auto result = if_expr(value == 42, [] {\n",
    "    return \"mooh\";\n",
    "  });"
   ]
  },
  {
   "cell_type": "code",
   "execution_count": 5,
   "metadata": {},
   "outputs": [
    {
     "data": {
      "text/plain": [
       "(const char *) nullptr\n"
      ]
     },
     "execution_count": 5,
     "metadata": {},
     "output_type": "execute_result"
    }
   ],
   "source": [
    "  result = if_expr(value == 2, [] {\n",
    "    return \"mooh\";\n",
    "  });"
   ]
  },
  {
   "cell_type": "code",
   "execution_count": null,
   "metadata": {
    "collapsed": true
   },
   "outputs": [],
   "source": []
  },
  {
   "cell_type": "code",
   "execution_count": null,
   "metadata": {
    "collapsed": true
   },
   "outputs": [],
   "source": []
  }
 ],
 "metadata": {
  "kernelspec": {
   "display_name": "C++14",
   "language": "",
   "name": "cling-cpp14"
  },
  "language_info": {
   "codemirror_mode": "text/x-c++src",
   "file_extension": ".c++",
   "mimetype": " text/x-c++src",
   "name": "c++"
  }
 },
 "nbformat": 4,
 "nbformat_minor": 2
}
